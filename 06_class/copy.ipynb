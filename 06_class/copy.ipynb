{
 "cells": [
  {
   "cell_type": "code",
   "execution_count": 1,
   "metadata": {},
   "outputs": [
    {
     "name": "stdout",
     "output_type": "stream",
     "text": [
      "1629354826688\n",
      "1629354989136\n",
      "naveed\n"
     ]
    }
   ],
   "source": [
    "name: str = \"amna\"\n",
    "print(id(name))\n",
    "name:str = \"naveed\"\n",
    "print(id(name))\n",
    "print(name)"
   ]
  },
  {
   "cell_type": "code",
   "execution_count": 2,
   "metadata": {},
   "outputs": [
    {
     "name": "stdout",
     "output_type": "stream",
     "text": [
      "1629354964480\n"
     ]
    }
   ],
   "source": [
    "numbers : list[int] = [1,2,3,4,5]\n",
    "print(id(numbers))"
   ]
  },
  {
   "cell_type": "markdown",
   "metadata": {},
   "source": [
    "# copy list using \"=\"\n"
   ]
  },
  {
   "cell_type": "code",
   "execution_count": 3,
   "metadata": {},
   "outputs": [
    {
     "name": "stdout",
     "output_type": "stream",
     "text": [
      "[1, 2, 3, 4, 5]\n",
      "[1, 2, 3, 4, 5]\n",
      "1629355157888\n",
      "1629355157888\n",
      "[1, 2, 3, 4, 5, 6]\n",
      "[1, 2, 3, 4, 5, 6]\n",
      "140709357488664\n",
      "140709357488664\n"
     ]
    }
   ],
   "source": [
    "numbers : list[int] = [1,2,3,4,5]\n",
    "numbers1:list[int] = numbers\n",
    "\n",
    "print(numbers)\n",
    "print(numbers1)\n",
    "\n",
    "print(id(numbers))\n",
    "print(id(numbers1))\n",
    "\n",
    "numbers1.append(6)\n",
    "print(numbers1)\n",
    "print(numbers)\n",
    "\n",
    "print(id(numbers[3]))\n",
    "print(id(numbers1[3]))"
   ]
  },
  {
   "cell_type": "markdown",
   "metadata": {},
   "source": [
    "# Shallow Copy of list"
   ]
  },
  {
   "cell_type": "code",
   "execution_count": 5,
   "metadata": {},
   "outputs": [
    {
     "name": "stdout",
     "output_type": "stream",
     "text": [
      "[1, 2, 3]\n",
      "[1, 2, 3]\n",
      "1629355142912\n",
      "1629355151872\n",
      "140709357488632\n",
      "140709357488632\n",
      "[1, 2, 3, 4]\n",
      "[1, 2, 3]\n",
      "[1, 5, 3, 4]\n",
      "[1, 2, 3]\n",
      "140709357488696\n",
      "140709357488600\n"
     ]
    }
   ],
   "source": [
    "import copy\n",
    "\n",
    "num : list[int] = [1,2,3]\n",
    "num1=copy.copy(num)\n",
    "\n",
    "print(num)\n",
    "print(num)\n",
    "\n",
    "print(id(num))\n",
    "print(id(num1))\n",
    "\n",
    "print(id(num[2]))\n",
    "print(id(num1[2]))  #shallow copy only copy the refrences of the item of the list\n",
    "\n",
    "num1.append(4)\n",
    "print(num1)\n",
    "print(num)\n",
    "\n",
    "num1[1]=5\n",
    "print(num1)       # modifies duplicated list without\n",
    "print(num)        # any changes in original list\n",
    "print(id(num1[1]))\n",
    "print(id(num[1]))"
   ]
  },
  {
   "cell_type": "markdown",
   "metadata": {},
   "source": [
    "In summary, for a 1D list of immutable objects (like numbers or strings), the difference between shallow and deep copies isn't noticeable. The real differences show up when you have mutable objects (like lists within lists)."
   ]
  },
  {
   "cell_type": "code",
   "execution_count": 6,
   "metadata": {},
   "outputs": [
    {
     "name": "stdout",
     "output_type": "stream",
     "text": [
      "[[1, 2, 3], [4, 5, 6]]\n",
      "[[1, 2, 3], [4, 5, 6]]\n",
      "1629355152256\n",
      "1629355152704\n",
      "1629355152064\n",
      "1629355152064\n",
      "[[1, 2, 3], [4, 5, 6], [7, 8, 9]]\n",
      "[[1, 2, 3], [4, 5, 6]]\n",
      "[[1, 2, 3], [0], [7, 8, 9]]\n",
      "[[1, 2, 3], [4, 5, 6]]\n",
      "1629355152320\n",
      "1629355152064\n"
     ]
    }
   ],
   "source": [
    "#list of lists\n",
    "import copy\n",
    "\n",
    "num : list[int] =[[1,2,3],[4,5,6]]\n",
    "num1=copy.copy(num)\n",
    "\n",
    "print(num)\n",
    "print(num)\n",
    "\n",
    "print(id(num))\n",
    "print(id(num1))\n",
    "\n",
    "print(id(num[1]))\n",
    "print(id(num1[1]))  #shallow copy only copy the refrences of the item of the list\n",
    "\n",
    "num1.append([7,8,9])\n",
    "print(num1)\n",
    "print(num)\n",
    "\n",
    "num1[1]=[0]\n",
    "print(num1)      # modifies duplicated list without\n",
    "print(num)       # any changes in original list\n",
    "\n",
    "print(id(num1[1]))\n",
    "print(id(num[1]))"
   ]
  },
  {
   "cell_type": "code",
   "execution_count": 8,
   "metadata": {},
   "outputs": [
    {
     "name": "stdout",
     "output_type": "stream",
     "text": [
      "[[1, 2, 3], [4, 5, 6]]\n",
      "[[1, 2, 3], [4, 5, 6]]\n",
      "1629355154880\n",
      "1629355152448\n",
      "1629355142912\n",
      "1629355142912\n",
      "[[1, 2, 3], [4, 5, 6], [7, 8, 9]]\n",
      "[[1, 2, 3], [4, 5, 6]]\n",
      "[[1, 0, 3], [4, 5, 6], [7, 8, 9]]\n",
      "[[1, 0, 3], [4, 5, 6]]\n",
      "1629355142912\n",
      "1629355142912\n"
     ]
    }
   ],
   "source": [
    "#list of lists\n",
    "import copy\n",
    "\n",
    "num : list[int] =[[1,2,3],[4,5,6]]\n",
    "num1=copy.copy(num)\n",
    "\n",
    "print(num)\n",
    "print(num)\n",
    "\n",
    "print(id(num))\n",
    "print(id(num1))\n",
    "\n",
    "print(id(num[1]))\n",
    "print(id(num1[1]))  #shallow copy only copy the refrences of the item of the list\n",
    "\n",
    "num1.append([7,8,9])   #modify outer list of duplicated list without any change in original list\n",
    "print(num1)\n",
    "print(num)\n",
    "\n",
    "num1[0][1]=0\n",
    "print(num1)      # modifies inner list of duplicated list will alse reflect in orignal list\n",
    "print(num)\n",
    "\n",
    "print(id(num1[1]))\n",
    "print(id(num[1]))"
   ]
  },
  {
   "cell_type": "markdown",
   "metadata": {},
   "source": [
    "Why Does This Matter?\n",
    "\n",
    "Shallow Copy is faster and uses less memory but can cause unexpected changes if you're not careful, especially with nested objects (like lists within lists).\n",
    "Deep Copy is safer for complex objects, but it takes more time and memory because it duplicates everything."
   ]
  },
  {
   "cell_type": "markdown",
   "metadata": {},
   "source": [
    "# Deep copy of list\n",
    "\n",
    "Deep copy means creating a completely independent copy of both the list and all the objects inside it. This means that the new list and the original list do not share any references; they are completely independent. If you change something in the deep-copied list, it won’t affect the original list at all."
   ]
  },
  {
   "cell_type": "code",
   "execution_count": 7,
   "metadata": {},
   "outputs": [
    {
     "name": "stdout",
     "output_type": "stream",
     "text": [
      "Original List: [[1, 2, 3], [4, 5, 6], [7, 8, 9]]\n",
      "Deep Copied List: [[100, 2, 3], [4, 5, 6], [7, 8, 9]]\n"
     ]
    }
   ],
   "source": [
    "import copy  # Import the copy module to use deepcopy\n",
    "\n",
    "# Step 1: Create a nested list\n",
    "original_list = [[1, 2, 3], [4, 5, 6], [7, 8, 9]]\n",
    "\n",
    "# Step 2: Create a deep copy of the nested list\n",
    "deep_copied_list = copy.deepcopy(original_list)\n",
    "\n",
    "# Step 3: Modify an element in the deep-copied list\n",
    "# Let's change the first element of the first inner list from 1 to 100\n",
    "deep_copied_list[0][0] = 100\n",
    "\n",
    "# Step 4: Print both the original list and the deep-copied list\n",
    "print(\"Original List:\", original_list)\n",
    "print(\"Deep Copied List:\", deep_copied_list)\n",
    "\n",
    "\n",
    "\n"
   ]
  },
  {
   "cell_type": "code",
   "execution_count": null,
   "metadata": {},
   "outputs": [],
   "source": []
  }
 ],
 "metadata": {
  "kernelspec": {
   "display_name": "Python 3",
   "language": "python",
   "name": "python3"
  },
  "language_info": {
   "codemirror_mode": {
    "name": "ipython",
    "version": 3
   },
   "file_extension": ".py",
   "mimetype": "text/x-python",
   "name": "python",
   "nbconvert_exporter": "python",
   "pygments_lexer": "ipython3",
   "version": "3.12.5"
  }
 },
 "nbformat": 4,
 "nbformat_minor": 2
}
