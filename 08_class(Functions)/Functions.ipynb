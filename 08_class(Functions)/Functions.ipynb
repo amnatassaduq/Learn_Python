{
 "cells": [
  {
   "cell_type": "markdown",
   "metadata": {},
   "source": [
    "# **Functions**\n",
    "\n",
    "### Syntax\n",
    "\n",
    "**function defination**\n",
    "\n",
    "def function_name(parameters):\n",
    "              \n",
    " function_body\n",
    "\n",
    "\n",
    "**invoke a function**\n",
    "\n",
    "function_name(arguments) \n",
    "\n",
    "            "
   ]
  },
  {
   "cell_type": "markdown",
   "metadata": {},
   "source": [
    "# **Function Parameters**  \n",
    "\n",
    "Parameters simply can be said the inputs/data required by the function to perform a specific task.\n",
    "\n",
    "parameters are provided in paranthesis of the function.\n",
    "\n",
    "A function can be defined prameterless "
   ]
  },
  {
   "cell_type": "markdown",
   "metadata": {},
   "source": [
    "# **Function Arguments**\n",
    "\n",
    "Arguments are the actual values you pass to a function when you call it. These values get assigned to the function’s parameters."
   ]
  },
  {
   "cell_type": "code",
   "execution_count": 2,
   "metadata": {},
   "outputs": [
    {
     "name": "stdout",
     "output_type": "stream",
     "text": [
      "Hello Rehan!\n"
     ]
    }
   ],
   "source": [
    "my_name : str = \"Rehan\"\n",
    "def greetings(name):                # name = parameter\n",
    "    print(f\"Hello {name}!\")\n",
    "\n",
    "greetings(my_name)                  #my_name = argument"
   ]
  },
  {
   "cell_type": "markdown",
   "metadata": {},
   "source": [
    "## 1.Positional Arguments\n",
    "Positional arguments are arguments that are passed to a function based on the order they appear in the function call. The first argument is assigned to the first parameter, the second to the second parameter, and so on.\n",
    "\n"
   ]
  },
  {
   "cell_type": "code",
   "execution_count": 9,
   "metadata": {},
   "outputs": [
    {
     "name": "stdout",
     "output_type": "stream",
     "text": [
      "5\n"
     ]
    }
   ],
   "source": [
    "def add_numbers(a, b):\n",
    "    return a - b\n",
    "\n",
    "result = add_numbers(10, 5)\n",
    "print(result)  # Output: 5"
   ]
  },
  {
   "cell_type": "markdown",
   "metadata": {},
   "source": [
    "The position of the arguments is crucial here. If we change the order, the meaning of the arguments changes."
   ]
  },
  {
   "cell_type": "code",
   "execution_count": 11,
   "metadata": {},
   "outputs": [
    {
     "name": "stdout",
     "output_type": "stream",
     "text": [
      "Welcome to Python!, Ali\n"
     ]
    }
   ],
   "source": [
    "def greet(name, message):\n",
    "    print(f\"{name}, {message}\")\n",
    "\n",
    "greet(\"Welcome to Python!\", \"Ali\")"
   ]
  },
  {
   "cell_type": "markdown",
   "metadata": {},
   "source": [
    "## 2.Keyword argument \n",
    "\n",
    "keyword arguments, allow us to pass arguments by explicitly specifying the parameter name. This is in contrast to positional arguments,"
   ]
  },
  {
   "cell_type": "code",
   "execution_count": 14,
   "metadata": {},
   "outputs": [
    {
     "name": "stdout",
     "output_type": "stream",
     "text": [
      "Hello Ali, Welcome to Python!\n"
     ]
    }
   ],
   "source": [
    "def greet(name, message): \n",
    "        print(f\"Hello {name}, {message}\")\n",
    "greet(name=\"Ali\", message=\"Welcome to Python!\")"
   ]
  },
  {
   "cell_type": "markdown",
   "metadata": {},
   "source": [
    " ### Using Default Parameter Values and Overriding with Keyword Arguments"
   ]
  },
  {
   "cell_type": "code",
   "execution_count": 15,
   "metadata": {},
   "outputs": [
    {
     "name": "stdout",
     "output_type": "stream",
     "text": [
      "Hello Guest, Welcome!\n",
      "Hello Ali, Welcome!\n",
      "Hello Guest, Good morning!\n",
      "Hello Ali, Good morning!\n"
     ]
    }
   ],
   "source": [
    "def greet(name=\"Guest\", message=\"Welcome!\"):\n",
    "    print(f\"Hello {name}, {message}\")\n",
    "\n",
    "\n",
    "greet()  # Output: Hello Guest, Welcome!\n",
    "\n",
    "greet(name=\"Ali\")  # Output: Hello Ali, Welcome!\n",
    "\n",
    "greet(message=\"Good morning!\")  # Output: Hello Guest, Good morning!\n",
    "\n",
    "greet(name=\"Ali\", message=\"Good morning!\")  # Output: Hello Ali, Good morning!"
   ]
  },
  {
   "cell_type": "markdown",
   "metadata": {},
   "source": [
    "# *args and **kwargs\n",
    "\n",
    " *args and **kwargs are used to allow a function to accept an arbitrary number of arguments. They are a powerful feature that makes your functions flexible and capable of handling varying numbers of inputs."
   ]
  },
  {
   "cell_type": "markdown",
   "metadata": {},
   "source": [
    "## 3.*args\n",
    "\n",
    "*args allows a function to accept **any number of positional arguments.**\n",
    "\n",
    "The * operator before args tells Python to pack all the extra positional arguments into a tuple called args."
   ]
  },
  {
   "cell_type": "code",
   "execution_count": 12,
   "metadata": {},
   "outputs": [
    {
     "name": "stdout",
     "output_type": "stream",
     "text": [
      "Hello, Alice!\n",
      "Hello, Bob!\n",
      "Hello, Charlie!\n"
     ]
    }
   ],
   "source": [
    "def greet(*args):\n",
    "    for name in args:\n",
    "        print(f\"Hello, {name}!\")\n",
    "greet('Alice', 'Bob', 'Charlie')\n"
   ]
  },
  {
   "cell_type": "markdown",
   "metadata": {},
   "source": [
    "## 4.**kwargs\n",
    "\n",
    "** kwargs allows a function to accept   **any number of keyword arguments**.\n",
    "\n",
    "The ** operator before kwargs tells Python to pack all the extra keyword arguments into a dictionary called kwargs."
   ]
  },
  {
   "cell_type": "code",
   "execution_count": 13,
   "metadata": {},
   "outputs": [
    {
     "name": "stdout",
     "output_type": "stream",
     "text": [
      "name: Alice\n",
      "age: 30\n",
      "city: New York\n"
     ]
    }
   ],
   "source": [
    "def display_info(**kwargs):\n",
    "    for key, value in kwargs.items():\n",
    "        print(f\"{key}: {value}\")\n",
    "display_info(name='Alice', age=30, city='New York')\n"
   ]
  },
  {
   "cell_type": "markdown",
   "metadata": {},
   "source": [
    "# Using Positional and Keyword Arguments Together\n",
    "\n",
    "We can combine both positional and keyword arguments in a function call. However, there are a few important rules:\n",
    "\n",
    "Positional arguments must come before keyword arguments.\n",
    "\n",
    "Once we use a keyword argument, all subsequent arguments must also be keyword arguments."
   ]
  },
  {
   "cell_type": "code",
   "execution_count": 16,
   "metadata": {},
   "outputs": [
    {
     "name": "stdout",
     "output_type": "stream",
     "text": [
      "I have a cat named Tickle.\n",
      "I have a dog named Max.\n",
      "I have a duck named i forgot.\n"
     ]
    }
   ],
   "source": [
    "def describe_pet(pet_name, animal_type=\"dog\"):\n",
    "    print(f\"I have a {animal_type} named {pet_name}.\")\n",
    "\n",
    "# Positional argument for pet_name, keyword argument for animal_type\n",
    "describe_pet(\"Tickle\", animal_type=\"cat\")\n",
    "# Output: I have a cat named Tickle.\n",
    "\n",
    "# Positional argument for both parameters\n",
    "describe_pet(\"Max\", \"dog\")\n",
    "# Output: I have a dog named Max.\n",
    "\n",
    "# Keyword arguments for both\n",
    "describe_pet(animal_type=\"duck\", pet_name=\"i forgot\")\n",
    "# Output: I have a duck named i forgot."
   ]
  },
  {
   "cell_type": "markdown",
   "metadata": {},
   "source": [
    "# **Return**\n",
    "\n",
    "The return statement in a function is used to exit the function and send a value back to the place where the function was called.\n",
    "\n",
    "Functions should return values that are useful to other parts of your program."
   ]
  },
  {
   "cell_type": "code",
   "execution_count": 3,
   "metadata": {},
   "outputs": [
    {
     "name": "stdout",
     "output_type": "stream",
     "text": [
      "8\n"
     ]
    }
   ],
   "source": [
    "#Basic usage of return\n",
    "def add(a, b):\n",
    "    return a + b\n",
    "\n",
    "result = add(5, 3)\n",
    "print(result)  # Output: 8\n"
   ]
  },
  {
   "cell_type": "code",
   "execution_count": 4,
   "metadata": {},
   "outputs": [
    {
     "name": "stdout",
     "output_type": "stream",
     "text": [
      "Positive\n",
      "Non-positive\n"
     ]
    }
   ],
   "source": [
    "#Exiting a Function Early\n",
    "\n",
    "def check_number(num):\n",
    "    if num > 0:\n",
    "        return \"Positive\"\n",
    "    return \"Non-positive\"\n",
    "\n",
    "print(check_number(10))  # Output: Positive\n",
    "print(check_number(-5))  # Output: Non-positive\n"
   ]
  },
  {
   "cell_type": "code",
   "execution_count": 5,
   "metadata": {},
   "outputs": [
    {
     "name": "stdout",
     "output_type": "stream",
     "text": [
      "1 2\n"
     ]
    }
   ],
   "source": [
    "#Returning Multiple Values\n",
    "\n",
    "def get_point():\n",
    "    x = 1\n",
    "    y = 2\n",
    "    return x, y\n",
    "\n",
    "x_coord, y_coord = get_point()\n",
    "print(x_coord, y_coord)  # Output: 1 2\n"
   ]
  },
  {
   "cell_type": "code",
   "execution_count": 6,
   "metadata": {},
   "outputs": [
    {
     "name": "stdout",
     "output_type": "stream",
     "text": [
      "[0, 2, 4, 6, 8]\n"
     ]
    }
   ],
   "source": [
    "# Return a list\n",
    "def generate_even_numbers(limit):\n",
    "    even_numbers = [i for i in range(limit) if i % 2 == 0]\n",
    "    return even_numbers\n",
    "\n",
    "result = generate_even_numbers(10)\n",
    "print(result)  # Output: [0, 2, 4, 6, 8]"
   ]
  },
  {
   "cell_type": "code",
   "execution_count": 8,
   "metadata": {},
   "outputs": [
    {
     "name": "stdout",
     "output_type": "stream",
     "text": [
      "{'name': 'John', 'age': 21, 'course': 'Mathematics'}\n"
     ]
    }
   ],
   "source": [
    "#Return a dictionary\n",
    "def get_student_info(name, age, course):\n",
    "    return {\n",
    "        \"name\": name,\n",
    "        \"age\": age,\n",
    "        \"course\": course\n",
    "    }\n",
    "\n",
    "student_info = get_student_info(\"John\", 21, \"Mathematics\")\n",
    "print(student_info)  # Output: {'name': 'John', 'age': 21, 'course': 'Mathematics'}"
   ]
  },
  {
   "cell_type": "markdown",
   "metadata": {},
   "source": [
    "# **Recursive Functions in Python**\n",
    "Functions in Python are powerful tools for structuring programs, and recursive functions offer even more flexibility.\n",
    "\n",
    "\n",
    "Recursion is a programming technique where a function calls itself to solve a problem. The key idea is that the problem is broken down into smaller sub-problems, and the function continues calling itself with simpler inputs until it reaches a base case (a stopping condition).\n",
    "\n",
    "### Key Points:\n",
    "\n",
    "Every recursive function has a base case to terminate the recursion.\n",
    "\n",
    "A recursive function solves a problem by reducing it to a smaller version of itself"
   ]
  },
  {
   "cell_type": "code",
   "execution_count": 6,
   "metadata": {},
   "outputs": [
    {
     "name": "stdout",
     "output_type": "stream",
     "text": [
      "120\n"
     ]
    }
   ],
   "source": [
    "# factorial without recurisive function\n",
    "\n",
    "import sys # Import the sys module to access system-specific functions and parameters\n",
    "\n",
    "# Set the limit for integer string conversion to unlimited\n",
    "sys.set_int_max_str_digits(0) \n",
    "num = int(input(\"Enter a number to get its factorial: \"))\n",
    "\n",
    "def calculate_factorial(num):\n",
    "  if num < 0:\n",
    "   return None\n",
    "  elif num <=1:\n",
    "   return 1\n",
    "  else:\n",
    "   fact=2\n",
    "   for i in range(3,num+1):\n",
    "      fact= fact * i\n",
    "   return fact\n",
    "     \n",
    "result=calculate_factorial(num)\n",
    "\n",
    "print(result)\n",
    "\n",
    "  "
   ]
  },
  {
   "cell_type": "code",
   "execution_count": 4,
   "metadata": {},
   "outputs": [
    {
     "name": "stdout",
     "output_type": "stream",
     "text": [
      "120\n"
     ]
    }
   ],
   "source": [
    "# factorial with recurisive function\n",
    "\n",
    "import sys  \n",
    "\n",
    "sys.set_int_max_str_digits(0)\n",
    "\n",
    "num = int(input(\"Enter a number to get its factorial: \"))\n",
    "\n",
    "# Define a function to recursively calculate the factorial of a given number.\n",
    "def calculate_factorial(num):\n",
    "\n",
    "    if num < 0:\n",
    "        return None  # Return None to indicate an invalid input if the number is negative.\n",
    "    \n",
    "    # Base case: If the number is 0 or 1, return 1 as the factorial of both 0 and 1 is 1.\n",
    "    # This is the termination point of the recursion.\n",
    "    elif num <= 1:\n",
    "        return 1\n",
    "\n",
    "    # Recursive case: For numbers greater than 1, the factorial is defined as:\n",
    "    # factorial(n) = n * factorial(n - 1)\n",
    "    # This line is where the recursion happens.\n",
    "    # The function will call itself with (num - 1) until it reaches the base case.\n",
    "    # For example, if num = 5, it will evaluate as:\n",
    "    # 5 * factorial(4)\n",
    "    # factorial(4) will then call factorial(3), and so on, until it hits the base case.\n",
    "    else:\n",
    "        return num * calculate_factorial(num - 1)\n",
    "\n",
    "        # Steps of recursion:\n",
    "        # 1. If num = 5, the function returns 5 * factorial(4)\n",
    "        # 2. Then, factorial(4) returns 4 * factorial(3)\n",
    "        # 3. Then, factorial(3) returns 3 * factorial(2)\n",
    "        # 4. Then, factorial(2) returns 2 * factorial(1)\n",
    "        # 5. Once it reaches factorial(1), the base case returns 1.\n",
    "        # 6. Now, the function starts resolving in reverse order:\n",
    "        #    - factorial(2) becomes 2 * 1 = 2\n",
    "        #    - factorial(3) becomes 3 * 2 = 6\n",
    "        #    - factorial(4) becomes 4 * 6 = 24\n",
    "        #    - factorial(5) becomes 5 * 24 = 120\n",
    "        # 7. Finally, the result of factorial(5) is returned as 120.\n",
    "\n",
    "# Call the function to compute the factorial of the input number.\n",
    "# The result of the recursive function is stored in the 'result' variable.\n",
    "result = calculate_factorial(num)\n",
    "\n",
    "print(result)\n"
   ]
  },
  {
   "cell_type": "markdown",
   "metadata": {},
   "source": [
    "## But\n",
    "\n",
    "If you forget to consider the conditions which can stop the chain of recursive invocations, the program may enter an **infinite loop**.\n",
    "\n",
    "Recursive calls consume a lot of memory and therefore recursive functions may sometimes be **inefficient**.\n",
    "\n",
    "calculating the factorial of very large numbers might cause a ## **RecursionError**"
   ]
  },
  {
   "cell_type": "markdown",
   "metadata": {},
   "source": [
    "# **Lambda function**\n",
    "\n",
    "A lambda function in Python is a small anonymous function defined with the lambda keyword. Unlike regular functions defined using def, a lambda function is a single expression. Lambda functions are often used as arguments to higher-order functions like map(), filter(), and sorted().\n",
    "\n",
    "**Key Points:**\n",
    "\n",
    "**Anonymous:** Lambda functions are not bound to a name, hence they're referred to as anonymous functions.\n",
    "\n",
    "**Single expression:** They contain only one expression and automatically return the result of that expression.\n",
    "\n",
    "**Inline:** They are often used inline and passed as arguments to functions.\n",
    "\n",
    "\n"
   ]
  },
  {
   "cell_type": "code",
   "execution_count": 3,
   "metadata": {},
   "outputs": [
    {
     "name": "stdout",
     "output_type": "stream",
     "text": [
      "15\n"
     ]
    }
   ],
   "source": [
    "# Lambda function to multiply two numbers\n",
    "multiply = lambda a, b: a * b\n",
    "\n",
    "print(multiply(3, 5))  # Output: 15"
   ]
  },
  {
   "cell_type": "code",
   "execution_count": 2,
   "metadata": {},
   "outputs": [
    {
     "name": "stdout",
     "output_type": "stream",
     "text": [
      "[1, 4, 9, 16, 25]\n"
     ]
    }
   ],
   "source": [
    "#lambda fun with build in fun\n",
    "#map() applies a lambda function to each item in a list or iterable.\n",
    "\n",
    "numbers = [1, 2, 3, 4, 5]\n",
    "\n",
    "# Square each number using map and lambda\n",
    "squared_numbers = list(map(lambda x: x ** 2, numbers))\n",
    "\n",
    "print(squared_numbers)  # Output: [1, 4, 9, 16, 25]"
   ]
  },
  {
   "cell_type": "markdown",
   "metadata": {},
   "source": [
    "## **Limitations of Lambda Functions Single Expression:** \n",
    "\n",
    "Lambda functions are limited to one expression, which can sometimes make them less readable if complex logic is required.\n",
    "\n",
    "**1.No Statements**: Unlike normal functions, lambda functions can't contain statements such as loops, print, or multi-linelogic.\n",
    "\n",
    "**2.Less Readable for Complex Operations:** While lambda functions are concise, they can reduce readability if overused or used for complex logic.\n",
    "\n",
    "**3.No Annotations:** Lambda functions don't support function annotations (type hints)."
   ]
  }
 ],
 "metadata": {
  "kernelspec": {
   "display_name": "Python 3",
   "language": "python",
   "name": "python3"
  },
  "language_info": {
   "codemirror_mode": {
    "name": "ipython",
    "version": 3
   },
   "file_extension": ".py",
   "mimetype": "text/x-python",
   "name": "python",
   "nbconvert_exporter": "python",
   "pygments_lexer": "ipython3",
   "version": "3.12.5"
  }
 },
 "nbformat": 4,
 "nbformat_minor": 2
}
