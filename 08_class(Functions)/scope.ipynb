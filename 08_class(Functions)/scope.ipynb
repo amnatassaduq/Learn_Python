{
 "cells": [
  {
   "cell_type": "markdown",
   "metadata": {},
   "source": [
    "# **Scope**\n",
    "\n",
    "scope refers to the region or context within a program where a particular variable or object is accessible"
   ]
  },
  {
   "cell_type": "markdown",
   "metadata": {},
   "source": [
    "## *1.Local Scope:*\n",
    "\n",
    "Variables defined within a function have a local scope and are only accessible within that function. Once the function finishes execution, the local variables are destroyed."
   ]
  },
  {
   "cell_type": "code",
   "execution_count": 1,
   "metadata": {},
   "outputs": [
    {
     "name": "stdout",
     "output_type": "stream",
     "text": [
      "10\n"
     ]
    },
    {
     "ename": "NameError",
     "evalue": "name 'x' is not defined",
     "output_type": "error",
     "traceback": [
      "\u001b[1;31m---------------------------------------------------------------------------\u001b[0m",
      "\u001b[1;31mNameError\u001b[0m                                 Traceback (most recent call last)",
      "Cell \u001b[1;32mIn[1], line 6\u001b[0m\n\u001b[0;32m      3\u001b[0m     \u001b[38;5;28mprint\u001b[39m(x)\n\u001b[0;32m      5\u001b[0m my_function()  \u001b[38;5;66;03m# Output: 10\u001b[39;00m\n\u001b[1;32m----> 6\u001b[0m \u001b[38;5;28mprint\u001b[39m(\u001b[43mx\u001b[49m)  \u001b[38;5;66;03m# This will raise an error because x is not accessible outside the function.\u001b[39;00m\n",
      "\u001b[1;31mNameError\u001b[0m: name 'x' is not defined"
     ]
    }
   ],
   "source": [
    "def my_function():\n",
    "    x = 10  # Local variable\n",
    "    print(x)\n",
    "\n",
    "my_function()  # Output: 10\n",
    "print(x)  # This will raise an error because x is not accessible outside the function.\n"
   ]
  },
  {
   "cell_type": "markdown",
   "metadata": {},
   "source": [
    "## *2.Enclosing (or Nonlocal) Scope:*\n",
    "\n",
    "This scope exists for nested functions. If a function is defined inside another function, the variables from the enclosing function (outer function) are accessible within the inner function. This is known as the nonlocal scope.\n",
    "python"
   ]
  },
  {
   "cell_type": "code",
   "execution_count": 2,
   "metadata": {},
   "outputs": [
    {
     "name": "stdout",
     "output_type": "stream",
     "text": [
      "20\n"
     ]
    }
   ],
   "source": [
    "def outer_function():\n",
    "    x = 20  # Enclosing variable\n",
    "    \n",
    "    def inner_function():\n",
    "        print(x)  # Accessing enclosing variable\n",
    "    \n",
    "    inner_function()\n",
    "\n",
    "outer_function()  # Output: 20\n"
   ]
  },
  {
   "cell_type": "markdown",
   "metadata": {},
   "source": [
    "## *3.Global Scope:*\n",
    "\n",
    "Variables defined at the top level of a module (outside any function) are part of the global scope and can be accessed from anywhere within the module."
   ]
  },
  {
   "cell_type": "code",
   "execution_count": 3,
   "metadata": {},
   "outputs": [
    {
     "name": "stdout",
     "output_type": "stream",
     "text": [
      "30\n",
      "30\n"
     ]
    }
   ],
   "source": [
    "x = 30  # Global variable\n",
    "\n",
    "def my_function():\n",
    "    print(x)  # Accessing global variable\n",
    "\n",
    "my_function()  # Output: 30\n",
    "print(x)  # Output: 30\n"
   ]
  },
  {
   "cell_type": "markdown",
   "metadata": {},
   "source": [
    "## *3.Built-in Scope:*\n",
    "\n",
    "This is the scope that contains Python's built-in functions and keywords. These are available from anywhere in your code."
   ]
  },
  {
   "cell_type": "code",
   "execution_count": 4,
   "metadata": {},
   "outputs": [
    {
     "name": "stdout",
     "output_type": "stream",
     "text": [
      "3\n"
     ]
    }
   ],
   "source": [
    "print(len([1, 2, 3]))  # len is a built-in function available everywhere\n"
   ]
  },
  {
   "cell_type": "markdown",
   "metadata": {},
   "source": [
    "## **Variable Lookup (LEGB Rule)**\n",
    "\n",
    "When you refer to a variable in Python, it is resolved according to the following order:\n",
    "\n",
    "L: Local — the innermost scope within a function or method.\n",
    "\n",
    "E: Enclosing — the scope of any enclosing functions (if the variable is not in the local scope).\n",
    "\n",
    "G: Global — the module-level scope (for variables defined outside any function).\n",
    "\n",
    "B: Built-in — Python's built-in namespace."
   ]
  },
  {
   "cell_type": "markdown",
   "metadata": {},
   "source": [
    "## **The global keyword**\n",
    "We can declare a variable outside the function and access it inside the function with global keyword."
   ]
  },
  {
   "cell_type": "code",
   "execution_count": 5,
   "metadata": {},
   "outputs": [
    {
     "name": "stdout",
     "output_type": "stream",
     "text": [
      "Inside Function: Rehan\n",
      "Outside the Function: Rehan\n"
     ]
    }
   ],
   "source": [
    "teacher_name : str = \"Usman\"\n",
    "\n",
    "def greetings():\n",
    "    global teacher_name\n",
    "    teacher_name = \"Rehan\"\n",
    "    print(f\"Inside Function: {teacher_name}\")\n",
    "\n",
    "greetings()\n",
    "\n",
    "print(f\"Outside the Function: {teacher_name}\")\n"
   ]
  },
  {
   "cell_type": "markdown",
   "metadata": {},
   "source": [
    "# **Important Points**\n",
    "\n",
    "## *For Immutable Types*\n",
    "\n",
    "Changing the parameter's value doesn't propagate outside the function (in any case, not when the variable is a scalar (primitive)).\n",
    "\n",
    "This also means that a function receives the argument's value, not the argument itself.\n",
    "\n"
   ]
  },
  {
   "cell_type": "code",
   "execution_count": 7,
   "metadata": {},
   "outputs": [
    {
     "name": "stdout",
     "output_type": "stream",
     "text": [
      "value Received: 4\n",
      "value changed inside func : 104\n",
      "Value outside the func: 4\n"
     ]
    }
   ],
   "source": [
    "def any_function (value):\n",
    "    print(f\"value Received: {value}\")\n",
    "    value += 100\n",
    "    print(f\"value changed inside func : {value}\")\n",
    "\n",
    "value = 4\n",
    "any_function(value)\n",
    "print(f\"Value outside the func: {value}\")\n"
   ]
  },
  {
   "cell_type": "markdown",
   "metadata": {},
   "source": [
    "## *For Mutable Types*\n",
    "But for lists, a case is bit different. Let's learn from same example but instead we'll use lists."
   ]
  },
  {
   "cell_type": "code",
   "execution_count": 6,
   "metadata": {},
   "outputs": [
    {
     "name": "stdout",
     "output_type": "stream",
     "text": [
      "value Received: [1, 2, 4, 5]\n",
      "num_list changed inside func : [1, 2, 4, 5, 500]\n",
      "num_list outside the func: [1, 2, 4, 5, 500]\n"
     ]
    }
   ],
   "source": [
    "def any_function (num_list):\n",
    "    print(f\"value Received: {num_list}\")\n",
    "    num_list.append(500)\n",
    "    print(f\"num_list changed inside func : {num_list}\")\n",
    "\n",
    "num_list = [1, 2, 4, 5]\n",
    "any_function(num_list)\n",
    "print(f\"num_list outside the func: {num_list}\")"
   ]
  },
  {
   "cell_type": "markdown",
   "metadata": {},
   "source": [
    "## *Explanation:*\n",
    "\n",
    " -  When a scalar is passed to a function, Python creates a copy of the value (since they are immutable). Any modifications inside the function will be applied to the local copy, and the original variable outside the function remains unchanged.\n",
    " \n",
    "- In contrast, if the function were modifying a mutable object like a list or dictionary, the changes would be reflected outside the function. This is because mutables are passed by reference, and their internal state can be altered without creating a new copy."
   ]
  }
 ],
 "metadata": {
  "kernelspec": {
   "display_name": "Python 3",
   "language": "python",
   "name": "python3"
  },
  "language_info": {
   "codemirror_mode": {
    "name": "ipython",
    "version": 3
   },
   "file_extension": ".py",
   "mimetype": "text/x-python",
   "name": "python",
   "nbconvert_exporter": "python",
   "pygments_lexer": "ipython3",
   "version": "3.12.5"
  }
 },
 "nbformat": 4,
 "nbformat_minor": 2
}
