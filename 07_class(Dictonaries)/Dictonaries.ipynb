{
 "cells": [
  {
   "cell_type": "markdown",
   "metadata": {},
   "source": [
    "#                                         **Dicitonaries**\n",
    "\n",
    "* key_value pair \n",
    "    * key must be immutable datatype(primitive,tuple)\n",
    "    * value can be of any type\n",
    "* un ordered\n",
    "* mutable\n",
    "* used curly braces\n",
    "* len() function also works with dictionaries i.e. returns the length of key-value pairs\n",
    "* A dictionary is a one way tool i.e. We can find the value from key but cannot find they key from value.\n"
   ]
  },
  {
   "cell_type": "markdown",
   "metadata": {},
   "source": [
    "# **Creating a Dictionary**\n",
    "\n",
    "can create a dictionary using curly braces {} or the dict() function."
   ]
  },
  {
   "cell_type": "code",
   "execution_count": 1,
   "metadata": {},
   "outputs": [
    {
     "name": "stdout",
     "output_type": "stream",
     "text": [
      "{'Ali': 954, 'Fatima': 875, 'hamza': 456}\n"
     ]
    }
   ],
   "source": [
    "students_marks : dict[str,dict] = {\"Ali\" : 954 ,\n",
    "                                 \"Fatima\" : 875,\n",
    "                                 \"hamza\" : 456}\n",
    "print(students_marks)\n"
   ]
  },
  {
   "cell_type": "markdown",
   "metadata": {},
   "source": [
    "## **Accessing a value using a key**\n"
   ]
  },
  {
   "cell_type": "code",
   "execution_count": 9,
   "metadata": {},
   "outputs": [
    {
     "name": "stdout",
     "output_type": "stream",
     "text": [
      "954\n",
      "875\n"
     ]
    }
   ],
   "source": [
    "print(students_marks[\"Ali\"])\n",
    "\n",
    "# use get method to access value\n",
    "print(students_marks.get(\"Fatima\"))"
   ]
  },
  {
   "cell_type": "markdown",
   "metadata": {},
   "source": [
    "#### Handling Missing Keys\n",
    "\n",
    "The .get() method is safer for accessing keys, as it returns None or a default value if the key is not found, rather than raising a KeyError."
   ]
  },
  {
   "cell_type": "code",
   "execution_count": 2,
   "metadata": {},
   "outputs": [
    {
     "ename": "KeyError",
     "evalue": "'Naveed'",
     "output_type": "error",
     "traceback": [
      "\u001b[1;31m---------------------------------------------------------------------------\u001b[0m",
      "\u001b[1;31mKeyError\u001b[0m                                  Traceback (most recent call last)",
      "Cell \u001b[1;32mIn[2], line 1\u001b[0m\n\u001b[1;32m----> 1\u001b[0m \u001b[38;5;28mprint\u001b[39m(\u001b[43mstudents_marks\u001b[49m\u001b[43m[\u001b[49m\u001b[38;5;124;43m\"\u001b[39;49m\u001b[38;5;124;43mNaveed\u001b[39;49m\u001b[38;5;124;43m\"\u001b[39;49m\u001b[43m]\u001b[49m)       \u001b[38;5;66;03m#value error \u001b[39;00m\n",
      "\u001b[1;31mKeyError\u001b[0m: 'Naveed'"
     ]
    }
   ],
   "source": [
    "print(students_marks[\"Naveed\"])       #value error "
   ]
  },
  {
   "cell_type": "code",
   "execution_count": 14,
   "metadata": {},
   "outputs": [
    {
     "name": "stdout",
     "output_type": "stream",
     "text": [
      "None\n",
      "Not Found\n"
     ]
    }
   ],
   "source": [
    "\n",
    "# to avoid error use get method\n",
    "print(students_marks.get(\"Naveed\"))\n",
    "\n",
    "# Providing a default value with get()\n",
    "print(students_marks.get(\"David\", \"Not Found\"))  # Output: Not Found"
   ]
  },
  {
   "cell_type": "markdown",
   "metadata": {},
   "source": [
    "#### Access key from value is not possible"
   ]
  },
  {
   "cell_type": "code",
   "execution_count": 25,
   "metadata": {},
   "outputs": [
    {
     "ename": "KeyError",
     "evalue": "954",
     "output_type": "error",
     "traceback": [
      "\u001b[1;31m---------------------------------------------------------------------------\u001b[0m",
      "\u001b[1;31mKeyError\u001b[0m                                  Traceback (most recent call last)",
      "Cell \u001b[1;32mIn[25], line 2\u001b[0m\n\u001b[0;32m      1\u001b[0m \u001b[38;5;66;03m#accessing key ny value gives error\u001b[39;00m\n\u001b[1;32m----> 2\u001b[0m \u001b[38;5;28mprint\u001b[39m(\u001b[43mstudents_marks\u001b[49m\u001b[43m[\u001b[49m\u001b[38;5;241;43m954\u001b[39;49m\u001b[43m]\u001b[49m)    \u001b[38;5;66;03m#value error\u001b[39;00m\n",
      "\u001b[1;31mKeyError\u001b[0m: 954"
     ]
    }
   ],
   "source": [
    "#accessing key ny value gives error\n",
    "print(students_marks[954])    #value error\n"
   ]
  },
  {
   "cell_type": "markdown",
   "metadata": {},
   "source": [
    "# **Adding and Updating Items**\n",
    "\n",
    "As dictonaries are mutable so can add a new key-value pair or update an existing one using square brackets []."
   ]
  },
  {
   "cell_type": "code",
   "execution_count": 17,
   "metadata": {},
   "outputs": [
    {
     "name": "stdout",
     "output_type": "stream",
     "text": [
      "{'Ali': 954, 'Fatima': 875, 'hamza': 456, 'Ayesha': 1000}\n"
     ]
    }
   ],
   "source": [
    "students_marks[\"Ayesha\"] = 1000\n",
    "print(students_marks)"
   ]
  },
  {
   "cell_type": "code",
   "execution_count": 7,
   "metadata": {},
   "outputs": [
    {
     "name": "stdout",
     "output_type": "stream",
     "text": [
      "{'Fatima': 875, 'hamza': 456, 'Ayesha': 0}\n"
     ]
    }
   ],
   "source": [
    "students_marks[\"Ayesha\"] = 0\n",
    "print(students_marks)"
   ]
  },
  {
   "cell_type": "code",
   "execution_count": 17,
   "metadata": {},
   "outputs": [
    {
     "name": "stdout",
     "output_type": "stream",
     "text": [
      "{'name': 'hania'}\n"
     ]
    }
   ],
   "source": [
    "students_marks = {\"name\": \"hania\"}\n",
    "print(students_marks)"
   ]
  },
  {
   "cell_type": "code",
   "execution_count": 18,
   "metadata": {},
   "outputs": [
    {
     "name": "stdout",
     "output_type": "stream",
     "text": [
      "{'naveed': 23}\n"
     ]
    },
    {
     "ename": "NameError",
     "evalue": "name 'scores' is not defined",
     "output_type": "error",
     "traceback": [
      "\u001b[1;31m---------------------------------------------------------------------------\u001b[0m",
      "\u001b[1;31mNameError\u001b[0m                                 Traceback (most recent call last)",
      "Cell \u001b[1;32mIn[18], line 5\u001b[0m\n\u001b[0;32m      3\u001b[0m \u001b[38;5;28mprint\u001b[39m(scores)\n\u001b[0;32m      4\u001b[0m \u001b[38;5;28;01mdel\u001b[39;00m scores\n\u001b[1;32m----> 5\u001b[0m \u001b[38;5;28mprint\u001b[39m(\u001b[43mscores\u001b[49m)\n",
      "\u001b[1;31mNameError\u001b[0m: name 'scores' is not defined"
     ]
    }
   ],
   "source": [
    "scores = {}\n",
    "scores['naveed'] = 23\n",
    "print(scores)\n",
    "del scores\n",
    "print(scores)"
   ]
  },
  {
   "cell_type": "markdown",
   "metadata": {},
   "source": [
    "# **Methods of Dicitonaries**"
   ]
  },
  {
   "cell_type": "code",
   "execution_count": 30,
   "metadata": {},
   "outputs": [
    {
     "data": {
      "text/plain": [
       "['clear',\n",
       " 'copy',\n",
       " 'fromkeys',\n",
       " 'get',\n",
       " 'items',\n",
       " 'keys',\n",
       " 'pop',\n",
       " 'popitem',\n",
       " 'setdefault',\n",
       " 'update',\n",
       " 'values']"
      ]
     },
     "execution_count": 30,
     "metadata": {},
     "output_type": "execute_result"
    }
   ],
   "source": [
    "[i for i in dir(dict) if '_' not in i]"
   ]
  },
  {
   "cell_type": "markdown",
   "metadata": {},
   "source": [
    "## Removing items\n",
    "\n",
    "can remove items using the *del* statement, the *.pop()* method, or the *.popitem()* method."
   ]
  },
  {
   "cell_type": "markdown",
   "metadata": {},
   "source": [
    "## del "
   ]
  },
  {
   "cell_type": "code",
   "execution_count": null,
   "metadata": {},
   "outputs": [],
   "source": [
    "# Removing a specific key-value pair using del\n",
    "\n",
    "del students_marks[\"Ayesha\"]\n",
    "print(students_marks)"
   ]
  },
  {
   "cell_type": "markdown",
   "metadata": {},
   "source": [
    "## .pop() Method"
   ]
  },
  {
   "cell_type": "code",
   "execution_count": null,
   "metadata": {},
   "outputs": [],
   "source": [
    "# Removing a specific key-value pair using pop()\n",
    "\n",
    "removed_marks = students_marks.pop(\"Fatima\")              # print(students_marks.pop(\"Fatima\")) ia also valid\n",
    "print(removed_marks)  # Output: 875\n",
    "print(students_marks)\n"
   ]
  },
  {
   "cell_type": "markdown",
   "metadata": {},
   "source": [
    "## .popitem() Method"
   ]
  },
  {
   "cell_type": "code",
   "execution_count": 22,
   "metadata": {},
   "outputs": [
    {
     "name": "stdout",
     "output_type": "stream",
     "text": [
      "('name', 'hania')\n",
      "{}\n"
     ]
    }
   ],
   "source": [
    "# Removing the last inserted key-value pair using popitem()\n",
    "\n",
    "print(students_marks.popitem())\n",
    "print(students_marks)"
   ]
  },
  {
   "cell_type": "markdown",
   "metadata": {},
   "source": [
    "## .clear() Method"
   ]
  },
  {
   "cell_type": "code",
   "execution_count": 23,
   "metadata": {},
   "outputs": [
    {
     "name": "stdout",
     "output_type": "stream",
     "text": [
      "{}\n"
     ]
    }
   ],
   "source": [
    "#Removes all items from the dictionary.\n",
    "\n",
    "names={\"father\":\"tassaduq\",\n",
    "       \"son\":\"aq\"}\n",
    "names.clear()\n",
    "print(names)  # Output: {}"
   ]
  },
  {
   "cell_type": "markdown",
   "metadata": {},
   "source": [
    "## .copy() Method\n",
    "\n",
    "The .copy() method in Python is used to create a shallow copy of a dictionary. This means that it creates a new dictionary object with the same key-value pairs as the original, but changes to the new dictionary will not affect the original one, and vice versa. However, the term \"shallow\" means that if the dictionary contains nested objects (e.g., lists or other dictionaries), only the references to those objects are copied, not the actual objects themselves."
   ]
  },
  {
   "cell_type": "code",
   "execution_count": 6,
   "metadata": {},
   "outputs": [
    {
     "name": "stdout",
     "output_type": "stream",
     "text": [
      "{'amna': 45, 'anam': 78}\n"
     ]
    }
   ],
   "source": [
    "scores={\"amna\":45,\n",
    "       \"anam\":78}\n",
    "duplicated = scores.copy()   #shallow copy\n",
    "print(duplicated)\n",
    " # Output: {}"
   ]
  },
  {
   "cell_type": "markdown",
   "metadata": {},
   "source": [
    "## .update() Method\n",
    "\n",
    "Updates the dictionary with elements from another dictionary or from an iterable of key-value pairs.\n"
   ]
  },
  {
   "cell_type": "code",
   "execution_count": 7,
   "metadata": {},
   "outputs": [
    {
     "name": "stdout",
     "output_type": "stream",
     "text": [
      "{'amna': 45, 'anam': 78, 'Eve': 95, 'Frank': 87}\n"
     ]
    }
   ],
   "source": [
    "additional_scores = {\"Eve\": 95, \"Frank\": 87}\n",
    "scores.update(additional_scores)\n",
    "print(scores)  # Output: {'Alice': 90, 'Eve': 95, 'Frank': 87}"
   ]
  },
  {
   "cell_type": "markdown",
   "metadata": {},
   "source": [
    "## .keys() Method\n",
    "Returns a view object that displays a list of all the keys in the dictionary."
   ]
  },
  {
   "cell_type": "code",
   "execution_count": 8,
   "metadata": {},
   "outputs": [
    {
     "data": {
      "text/plain": [
       "dict_keys(['amna', 'anam', 'Eve', 'Frank'])"
      ]
     },
     "execution_count": 8,
     "metadata": {},
     "output_type": "execute_result"
    }
   ],
   "source": [
    "scores.keys()"
   ]
  },
  {
   "cell_type": "markdown",
   "metadata": {},
   "source": [
    "## .values() Method\n",
    "Returns a view object that displays a list of all the values in the dictionary."
   ]
  },
  {
   "cell_type": "code",
   "execution_count": 9,
   "metadata": {},
   "outputs": [
    {
     "data": {
      "text/plain": [
       "dict_values([45, 78, 95, 87])"
      ]
     },
     "execution_count": 9,
     "metadata": {},
     "output_type": "execute_result"
    }
   ],
   "source": [
    "scores.values()"
   ]
  },
  {
   "cell_type": "markdown",
   "metadata": {},
   "source": [
    "##  .items() Method\n",
    "\n",
    "Returns a view object that displays a list of the dictionary’s key-value tuple pairs"
   ]
  },
  {
   "cell_type": "code",
   "execution_count": 10,
   "metadata": {},
   "outputs": [
    {
     "name": "stdout",
     "output_type": "stream",
     "text": [
      "dict_items([('amna', 45), ('anam', 78), ('Eve', 95), ('Frank', 87)])\n"
     ]
    }
   ],
   "source": [
    "items = scores.items()\n",
    "print(items) "
   ]
  },
  {
   "cell_type": "markdown",
   "metadata": {},
   "source": [
    "# **Dictionary Comprehension**\n",
    "We can also apply comprehension method on dictionaries"
   ]
  },
  {
   "cell_type": "code",
   "execution_count": 11,
   "metadata": {},
   "outputs": [
    {
     "name": "stdout",
     "output_type": "stream",
     "text": [
      "{0: 0, 1: 1, 2: 2, 3: 3, 4: 4}\n"
     ]
    }
   ],
   "source": [
    "values : dict[int,int] = {x:x for x in range(5)}\n",
    "print(values)  # Output: {0: 0, 1: 1, 2: 2, 3: 3, 4: 4}"
   ]
  },
  {
   "cell_type": "code",
   "execution_count": 12,
   "metadata": {},
   "outputs": [
    {
     "name": "stdout",
     "output_type": "stream",
     "text": [
      "{0: 'apple', 1: 'banana', 2: 'orange'}\n"
     ]
    }
   ],
   "source": [
    "fruits : list[str] = [\"apple\", \"banana\", \"orange\"]\n",
    "fruits_dict : dict[int,str] = {i:fruit for i, fruit in enumerate(fruits)}\n",
    "print(fruits_dict)  # Output: {0: 'apple', 1: 'banana', 2: 'orange'}"
   ]
  },
  {
   "cell_type": "markdown",
   "metadata": {},
   "source": [
    "# **Checking if a Key Exists**\n",
    "\n",
    "can check if a key exists in a dictionary using the in keyword."
   ]
  },
  {
   "cell_type": "code",
   "execution_count": 14,
   "metadata": {},
   "outputs": [
    {
     "name": "stdout",
     "output_type": "stream",
     "text": [
      "True\n",
      "False\n"
     ]
    }
   ],
   "source": [
    "print(\"amna\" in scores)  # Output: True\n",
    "print(\"Charlie\" in scores)  # Output: False"
   ]
  },
  {
   "cell_type": "markdown",
   "metadata": {},
   "source": [
    "# **for loop(Iterating Through a Dictionary)**\n",
    "We can iterate through the keys, values, or key-value pairs in a dictionary using a for loop."
   ]
  },
  {
   "cell_type": "markdown",
   "metadata": {},
   "source": [
    "## Example 1: Iterating Over Keys"
   ]
  },
  {
   "cell_type": "code",
   "execution_count": 35,
   "metadata": {},
   "outputs": [
    {
     "name": "stdout",
     "output_type": "stream",
     "text": [
      "name\n",
      "age\n",
      "city\n"
     ]
    }
   ],
   "source": [
    "my_dict = {'name': 'Alice', 'age': 25, 'city': 'New York'}\n",
    "\n",
    "# Iterating over the keys\n",
    "for x in my_dict:\n",
    "    print(x)"
   ]
  },
  {
   "cell_type": "code",
   "execution_count": 34,
   "metadata": {},
   "outputs": [
    {
     "name": "stdout",
     "output_type": "stream",
     "text": [
      "name\n",
      "age\n",
      "city\n"
     ]
    }
   ],
   "source": [
    "my_dict = {'name': 'Alice', 'age': 25, 'city': 'New York'}\n",
    "\n",
    "# Iterating over the keys using .keys()\n",
    "for x in my_dict.keys():\n",
    "    print(x)\n"
   ]
  },
  {
   "cell_type": "markdown",
   "metadata": {},
   "source": [
    "## Example 2: Iterating Over Values\n",
    "\n",
    "You can iterate over the values in a dictionary using the values() method."
   ]
  },
  {
   "cell_type": "code",
   "execution_count": 17,
   "metadata": {},
   "outputs": [
    {
     "name": "stdout",
     "output_type": "stream",
     "text": [
      "Alice\n",
      "25\n",
      "New York\n"
     ]
    }
   ],
   "source": [
    "my_dict = {'name': 'Alice', 'age': 25, 'city': 'New York'}\n",
    "\n",
    "# Iterating over the values\n",
    "for i in my_dict.values():\n",
    "    print(i)\n"
   ]
  },
  {
   "cell_type": "markdown",
   "metadata": {},
   "source": [
    "## Example 3: Iterating Over Key-Value Pairs\n",
    "\n",
    "To iterate over both the keys and values, you can use the items() method. This returns key-value pairs as tuples."
   ]
  },
  {
   "cell_type": "code",
   "execution_count": 18,
   "metadata": {},
   "outputs": [
    {
     "name": "stdout",
     "output_type": "stream",
     "text": [
      "Key: name, Value: Alice\n",
      "Key: age, Value: 25\n",
      "Key: city, Value: New York\n"
     ]
    }
   ],
   "source": [
    "my_dict = {'name': 'Alice', 'age': 25, 'city': 'New York'}\n",
    "\n",
    "# Iterating over key-value pairs\n",
    "for x, y in my_dict.items():\n",
    "    print(f'Key: {x}, Value: {y}')\n"
   ]
  },
  {
   "cell_type": "markdown",
   "metadata": {},
   "source": [
    "# **iterating Over nested dictonaries**"
   ]
  },
  {
   "cell_type": "markdown",
   "metadata": {},
   "source": [
    "### **Task:**\n",
    "Create a function that takes the foods_nutrients dictionary as an argument.\n",
    "\n",
    "Use a for loop inside the function to iterate over the dictionary.\n",
    "\n",
    "For each food item, print the food name and its nutrient details.\n"
   ]
  },
  {
   "cell_type": "code",
   "execution_count": 33,
   "metadata": {},
   "outputs": [
    {
     "name": "stdout",
     "output_type": "stream",
     "text": [
      "Rice\n",
      "  carbs : 80%\n",
      "  protein : 20%\n",
      "-----------------\n",
      "Bread\n",
      "  carbs : 90%\n",
      "  protein : 10%\n",
      "-----------------\n"
     ]
    }
   ],
   "source": [
    "def myfun(foods_nutrients):\n",
    "    for food,nutrients in foods_nutrients.items():\n",
    "        print(f\"{food}\" )\n",
    "        for minerals,quantity in nutrients.items():\n",
    "            print(f\"  {minerals} : {quantity}\")\n",
    "        print(\"-----------------\")\n",
    "\n",
    "foods_nutrients : dict[str,str] = {\"Rice\":{\"carbs\":\"80%\",\n",
    "                                         \"protein\":\"20%\"},\n",
    "                                    \"Bread\":{\"carbs\":\"90%\",\n",
    "                                         \"protein\":\"10%\"}\n",
    "                                     }   \n",
    "\n",
    "\n",
    "myfun(foods_nutrients)"
   ]
  }
 ],
 "metadata": {
  "kernelspec": {
   "display_name": "Python 3",
   "language": "python",
   "name": "python3"
  },
  "language_info": {
   "codemirror_mode": {
    "name": "ipython",
    "version": 3
   },
   "file_extension": ".py",
   "mimetype": "text/x-python",
   "name": "python",
   "nbconvert_exporter": "python",
   "pygments_lexer": "ipython3",
   "version": "3.12.5"
  }
 },
 "nbformat": 4,
 "nbformat_minor": 2
}
