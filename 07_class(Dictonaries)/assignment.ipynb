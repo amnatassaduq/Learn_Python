{
 "cells": [
  {
   "cell_type": "markdown",
   "metadata": {},
   "source": [
    "# **Task**\n",
    "\n",
    "Find the grades of students using a function.\n",
    "\n"
   ]
  },
  {
   "cell_type": "code",
   "execution_count": 3,
   "metadata": {},
   "outputs": [],
   "source": [
    "students_data = [\n",
    "    {\n",
    "        'name': 'John Doe',\n",
    "        'marks': {\n",
    "            'Math': 85,\n",
    "            'English': 90,\n",
    "            'Science': 78\n",
    "        }\n",
    "    },\n",
    "    {\n",
    "        'name': 'Jane Smith',\n",
    "        'marks': {\n",
    "            'Math': 75,\n",
    "            'English': 82,\n",
    "            'Science': 89\n",
    "        }\n",
    "    },\n",
    "    {\n",
    "        'name': 'Emily Davis',\n",
    "        'marks': {\n",
    "            'Math': 93,\n",
    "            'English': 87,\n",
    "            'Science': 85\n",
    "        }\n",
    "    },\n",
    "    {\n",
    "        'name': 'Michael Brown',\n",
    "        'marks': {\n",
    "            'Math': 65,\n",
    "            'English': 70,\n",
    "            'Science': 60\n",
    "        }\n",
    "    },\n",
    "    {\n",
    "        'name': 'Chris Johnson',\n",
    "        'marks': {\n",
    "            'Math': 88,\n",
    "            'English': 85,\n",
    "            'Science': 90\n",
    "        }\n",
    "    }\n",
    "]"
   ]
  },
  {
   "cell_type": "code",
   "execution_count": 19,
   "metadata": {},
   "outputs": [
    {
     "name": "stdout",
     "output_type": "stream",
     "text": [
      "Student Name : John Doe\n",
      "   Marks : 253\n",
      "   grade : A\n",
      "Student Name : Jane Smith\n",
      "   Marks : 246\n",
      "   grade : A\n",
      "Student Name : Emily Davis\n",
      "   Marks : 265\n",
      "   grade : A\n",
      "Student Name : Michael Brown\n",
      "   Marks : 195\n",
      "   grade : C\n",
      "Student Name : Chris Johnson\n",
      "   Marks : 263\n",
      "   grade : A\n"
     ]
    }
   ],
   "source": [
    "def calculate_grade(percentage):\n",
    "        if percentage >=90:\n",
    "            print(\"   grade : A+\")\n",
    "            return\n",
    "        elif percentage >=80:\n",
    "            print(\"   grade : A\")\n",
    "            return\n",
    "        elif percentage >=70:\n",
    "            print(\"   grade : B\")\n",
    "            return\n",
    "        elif percentage >=60:\n",
    "            print(\"   grade : C\")\n",
    "            return\n",
    "        elif percentage >=50:\n",
    "            print(\"   grade : D\")\n",
    "            return\n",
    "        elif percentage >=40:\n",
    "            print(\"   grade : E\")\n",
    "            return\n",
    "        else:\n",
    "            print(\"   grade : F\")\n",
    "\n",
    "for student in students_data:\n",
    "    student_marks=student[\"marks\"][\"Math\"]+student[\"marks\"][\"English\"]+student[\"marks\"][\"Science\"]\n",
    "    print(f\"Student Name : {student[\"name\"]}\")\n",
    "    print(f\"   Marks : {student_marks}\")\n",
    "\n",
    "    percentage = (student_marks/300)*100\n",
    "    calculate_grade(percentage)\n",
    "\n",
    "    \n",
    "\n"
   ]
  },
  {
   "cell_type": "code",
   "execution_count": null,
   "metadata": {},
   "outputs": [],
   "source": []
  }
 ],
 "metadata": {
  "kernelspec": {
   "display_name": "Python 3",
   "language": "python",
   "name": "python3"
  },
  "language_info": {
   "codemirror_mode": {
    "name": "ipython",
    "version": 3
   },
   "file_extension": ".py",
   "mimetype": "text/x-python",
   "name": "python",
   "nbconvert_exporter": "python",
   "pygments_lexer": "ipython3",
   "version": "3.12.5"
  }
 },
 "nbformat": 4,
 "nbformat_minor": 2
}
