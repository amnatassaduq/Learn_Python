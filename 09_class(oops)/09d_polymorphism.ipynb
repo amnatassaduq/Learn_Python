{
 "cells": [
  {
   "cell_type": "markdown",
   "metadata": {},
   "source": [
    "# Polymorphism\n",
    "polymorphism means many forms(of objects)\n",
    "\n",
    "Polymorphism means that a single function or method works with different types of objects and gives different results based on the object type.\n",
    "\n",
    "In Python, you can define a method (like sound()) in multiple classes (e.g., Dog, Cat), and even though the method has the same name, each class can have its own version of that method.\n",
    "\n",
    "This makes your code shorter and more flexible because the same function can work with many types of objects."
   ]
  },
  {
   "cell_type": "code",
   "execution_count": 1,
   "metadata": {},
   "outputs": [
    {
     "data": {
      "text/plain": [
       "'Meow'"
      ]
     },
     "execution_count": 1,
     "metadata": {},
     "output_type": "execute_result"
    }
   ],
   "source": [
    "class Dog:\n",
    "    def sound(self):\n",
    "        return \"Bark\"\n",
    "\n",
    "class Cat:\n",
    "    def sound(self):\n",
    "        return \"Meow\"\n"
   ]
  },
  {
   "cell_type": "code",
   "execution_count": 2,
   "metadata": {},
   "outputs": [],
   "source": [
    "def make_sound(animal):\n",
    "    print(animal.sound())\n"
   ]
  },
  {
   "cell_type": "code",
   "execution_count": 3,
   "metadata": {},
   "outputs": [
    {
     "name": "stdout",
     "output_type": "stream",
     "text": [
      "Bark\n",
      "Meow\n"
     ]
    }
   ],
   "source": [
    "dog = Dog()   # Create a Dog object\n",
    "cat = Cat()   # Create a Cat object\n",
    "\n",
    "make_sound(dog)  # This will print \"Bark\"\n",
    "make_sound(cat)  # This will print \"Meow\"\n"
   ]
  },
  {
   "cell_type": "markdown",
   "metadata": {},
   "source": [
    "Here We have different animals like Dog and Cat.\n",
    "\n",
    "Each animal can make a sound, but the sound they make is different.\n",
    "\n",
    "We'll create a function called make_sound(), which will ask any animal to make its sound, without needing to know what kind of animal it is."
   ]
  },
  {
   "cell_type": "markdown",
   "metadata": {},
   "source": [
    "## *How This Shows Polymorphism:*\n",
    "\n",
    "* Polymorphism means that the same function (make_sound()) can work with different objects (in this case, dog and cat), even though they behave differently.\n",
    "\n",
    "* Both Dog and Cat have the same method name, sound(), but the implementation is different for each. The make_sound() function works for both animals without needing to know exactly what kind of animal it’s dealing with."
   ]
  },
  {
   "cell_type": "markdown",
   "metadata": {},
   "source": [
    "*Why This is Useful:*\n",
    "\n",
    "* Instead of writing separate functions like make_dog_sound() and make_cat_sound(), we just have one function, make_sound(), that works for any animal as long as it has a sound() method.\n",
    "\n",
    "* This makes the code more flexible and easy to expand. If you add more animals (e.g., a Cow class), you don’t need to change make_sound()—you just make sure the new class has a sound() method."
   ]
  }
 ],
 "metadata": {
  "kernelspec": {
   "display_name": "Python 3",
   "language": "python",
   "name": "python3"
  },
  "language_info": {
   "codemirror_mode": {
    "name": "ipython",
    "version": 3
   },
   "file_extension": ".py",
   "mimetype": "text/x-python",
   "name": "python",
   "nbconvert_exporter": "python",
   "pygments_lexer": "ipython3",
   "version": "3.12.6"
  }
 },
 "nbformat": 4,
 "nbformat_minor": 2
}
