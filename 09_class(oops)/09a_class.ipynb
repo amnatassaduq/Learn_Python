{
 "cells": [
  {
   "cell_type": "markdown",
   "metadata": {},
   "source": [
    "# **oops**\n",
    "\n",
    "\n",
    "OOP (Object-Oriented Programming) is a programming paradigm based on the concept of \"objects,\". The four main principles of OOP are:\n",
    "\n",
    "**Encapsulation**: Bundling data and methods that operate on the data within a class and restricting access to some of the object's components.\n",
    "\n",
    "**Abstraction**: Hiding the complex implementation details and showing only the necessary features of an object.\n",
    "\n",
    "**Inheritance**: Allowing a new class to inherit properties and methods from an existing class.\n",
    "\n",
    "**Polymorphism:** Allowing objects of different classes to be treated as instances of the same class through shared methods.\n",
    "\n",
    "Here’s a table summarizing the **Differences Between Procedural Programming and OOP**:\n",
    "\n",
    "\n",
    "\n",
    "| **Aspect**               | **Procedural Programming**     | **Object-Oriented Programming (OOP)** |\n",
    "|--------------------------|-------------------------------|---------------------------------------|\n",
    "| **Basic Unit**            | Functions and Procedures      | Classes and Objects                  |\n",
    "| **Data and Functions**    | Data and functions are separate | Data and functions are bundled in objects |\n",
    "| **Code Reusability**      | Limited code reusability      | High reusability through classes and inheritance |\n",
    "| **Encapsulation**         | No encapsulation, data is exposed | Data is encapsulated and protected   |\n",
    "| **Complexity Management** | Harder to manage as programs grow | Easier to manage large programs with classes |\n",
    "| **Code Duplication**      | Often leads to code duplication | Reduces code duplication through inheritance and polymorphism |\n",
    "| **Scalability**           | Not easily scalable for large programs | Easily scalable by adding new classes or modifying existing ones |"
   ]
  },
  {
   "cell_type": "markdown",
   "metadata": {},
   "source": [
    "# **class**\n",
    "class is a blueprint for creating objects (a particular data structure).\n",
    "\n",
    "It defines attributes (variables) and methods (functions) that represent the properties and behaviors of the objects created from the class.\n",
    "\n",
    " Classes help organize code into reusable and modular components.\n",
    "\n",
    " All the build-in datatypes/structure are classes"
   ]
  },
  {
   "cell_type": "markdown",
   "metadata": {},
   "source": [
    "## *How to write Class code*\n"
   ]
  },
  {
   "cell_type": "code",
   "execution_count": 1,
   "metadata": {},
   "outputs": [],
   "source": [
    "class Human:\n",
    "    def __init__(self,name,age):\n",
    "        self.name = name\n",
    "        self.age = age\n",
    "    def details(self):\n",
    "        print(f\"\"\"My name is {self.name}\n",
    "        I m {self.age} years old\"\"\" )"
   ]
  },
  {
   "cell_type": "markdown",
   "metadata": {},
   "source": [
    "## *Let’s break down the syntax of the Human class step by step:*\n",
    "\n",
    "## **__init__**\n",
    "\n",
    "__init__ is a special method called a constructor. \n",
    "\n",
    "This method is automatically called when an object is created from the class\n",
    "\n",
    "### *What Happens if You Use a Different Name for the Constructor other then init?*\n",
    "\n",
    "Then object will be created without initilizing beacuse counstructor will nt call automatically .\n",
    "\n",
    "in this case you have to **call the constructor manually**"
   ]
  },
  {
   "cell_type": "code",
   "execution_count": 4,
   "metadata": {},
   "outputs": [
    {
     "ename": "TypeError",
     "evalue": "Human() takes no arguments",
     "output_type": "error",
     "traceback": [
      "\u001b[1;31m---------------------------------------------------------------------------\u001b[0m",
      "\u001b[1;31mTypeError\u001b[0m                                 Traceback (most recent call last)",
      "Cell \u001b[1;32mIn[4], line 9\u001b[0m\n\u001b[0;32m      5\u001b[0m     \u001b[38;5;28;01mdef\u001b[39;00m \u001b[38;5;21mdetails\u001b[39m(\u001b[38;5;28mself\u001b[39m):\n\u001b[0;32m      6\u001b[0m         \u001b[38;5;28mprint\u001b[39m(\u001b[38;5;124mf\u001b[39m\u001b[38;5;124m\"\"\"\u001b[39m\u001b[38;5;124mMy name is \u001b[39m\u001b[38;5;132;01m{\u001b[39;00m\u001b[38;5;28mself\u001b[39m\u001b[38;5;241m.\u001b[39mname\u001b[38;5;132;01m}\u001b[39;00m\n\u001b[0;32m      7\u001b[0m \u001b[38;5;124m        I m \u001b[39m\u001b[38;5;132;01m{\u001b[39;00m\u001b[38;5;28mself\u001b[39m\u001b[38;5;241m.\u001b[39mage\u001b[38;5;132;01m}\u001b[39;00m\u001b[38;5;124m years old\u001b[39m\u001b[38;5;124m\"\"\"\u001b[39m )\n\u001b[1;32m----> 9\u001b[0m ist_person \u001b[38;5;241m=\u001b[39m \u001b[43mHuman\u001b[49m\u001b[43m(\u001b[49m\u001b[38;5;124;43m\"\u001b[39;49m\u001b[38;5;124;43mAmna\u001b[39;49m\u001b[38;5;124;43m\"\u001b[39;49m\u001b[43m,\u001b[49m\u001b[38;5;241;43m28\u001b[39;49m\u001b[43m)\u001b[49m\n",
      "\u001b[1;31mTypeError\u001b[0m: Human() takes no arguments"
     ]
    }
   ],
   "source": [
    "class Human:\n",
    "    def initialize(self,name,age):\n",
    "        self.name = name\n",
    "        self.age = age\n",
    "    def details(self):\n",
    "        print(f\"\"\"My name is {self.name}\n",
    "        I m {self.age} years old\"\"\" )\n",
    "\n",
    "ist_person = Human(\"Amna\",28)"
   ]
  },
  {
   "cell_type": "code",
   "execution_count": 5,
   "metadata": {},
   "outputs": [],
   "source": [
    "class Human:\n",
    "    def initialize(self,name,age):\n",
    "        self.name = name\n",
    "        self.age = age\n",
    "    def details(self):\n",
    "        print(f\"\"\"My name is {self.name}\n",
    "        I m {self.age} years old\"\"\" )\n",
    "\n",
    "ist_person = Human()\n",
    "\n",
    "#Call initialize method explicitly\n",
    "\n",
    "ist_person.initialize(\"Amna\",28)"
   ]
  },
  {
   "cell_type": "markdown",
   "metadata": {},
   "source": [
    "## **self:** \n",
    "\n",
    "Refers to the instance (or object) of the class. \n",
    "\n",
    "It allows the object to reference its own attributes and methods.\n",
    "\n",
    "Every method in a class must have self as the first parameter\n",
    "\n",
    "### *What if You use any Different name as the first parameter in a Constructor other then self/?*\n",
    "\n",
    "You can technically use any other name as the first parameter in a class method, and Python will still treat it as the instance of the object. However, it's highly recommended to stick to self for clarity and consistency."
   ]
  },
  {
   "cell_type": "code",
   "execution_count": 7,
   "metadata": {},
   "outputs": [
    {
     "name": "stdout",
     "output_type": "stream",
     "text": [
      "28\n"
     ]
    }
   ],
   "source": [
    "class Human:\n",
    "\n",
    "    def __init__(instance,name,age):\n",
    "        instance.name = name\n",
    "        instance.age = age\n",
    "        \n",
    "    def details(instance):\n",
    "        print(f\"\"\"My name is {instance.name}\n",
    "        I m {instance.age} years old\"\"\" )\n",
    "\n",
    "ist_person = Human(\"Amna\",28)\n",
    "print(ist_person.age)"
   ]
  }
 ],
 "metadata": {
  "kernelspec": {
   "display_name": "Python 3",
   "language": "python",
   "name": "python3"
  },
  "language_info": {
   "codemirror_mode": {
    "name": "ipython",
    "version": 3
   },
   "file_extension": ".py",
   "mimetype": "text/x-python",
   "name": "python",
   "nbconvert_exporter": "python",
   "pygments_lexer": "ipython3",
   "version": "3.12.5"
  }
 },
 "nbformat": 4,
 "nbformat_minor": 2
}
