{
 "cells": [
  {
   "cell_type": "markdown",
   "metadata": {},
   "source": [
    "# **object**\n",
    "\n",
    "an object is an instance of a class.\n",
    "\n",
    "When a class is defined, no memory is allocated until an object of that class is created.\n",
    "\n",
    "Objects can have attributes (data) and methods (functions) that define their behavior and characteristics.\n",
    "\n",
    "For example, if you have a Car class, an object could be a specific car like \"Toyota\" or \"Honda,\" each with its own attributes (e.g., color, model) and methods (e.g., start, stop).\n",
    "\n",
    "#### **How to create an object**\n",
    "\n",
    "*object_name = ClassName(arguments)*\n",
    "\n",
    "\n",
    "\n",
    "\n",
    "\n",
    "\n"
   ]
  },
  {
   "cell_type": "code",
   "execution_count": 7,
   "metadata": {},
   "outputs": [
    {
     "name": "stdout",
     "output_type": "stream",
     "text": [
      "<__main__.Human object at 0x000001B2969486B0>\n",
      "28\n",
      "My name is Amna\n",
      "I m 28 years old\n"
     ]
    }
   ],
   "source": [
    "class Human:\n",
    "\n",
    "    def __init__(instance,name,age):\n",
    "        instance.name = name\n",
    "        instance.age = age\n",
    "        \n",
    "    def details(instance):\n",
    "        print(f\"\"\"My name is {instance.name}\n",
    "I m {instance.age} years old\"\"\" )\n",
    "\n",
    "#create an instance of class human\n",
    "ist_person = Human(\"Amna\",28)\n",
    "\n",
    "print(ist_person)\n",
    "\n",
    "#Access an attribute\n",
    "print(ist_person.age)\n",
    "\n",
    "# Access the object's methods\n",
    "ist_person.details()"
   ]
  }
 ],
 "metadata": {
  "kernelspec": {
   "display_name": "Python 3",
   "language": "python",
   "name": "python3"
  },
  "language_info": {
   "codemirror_mode": {
    "name": "ipython",
    "version": 3
   },
   "file_extension": ".py",
   "mimetype": "text/x-python",
   "name": "python",
   "nbconvert_exporter": "python",
   "pygments_lexer": "ipython3",
   "version": "3.12.5"
  }
 },
 "nbformat": 4,
 "nbformat_minor": 2
}
