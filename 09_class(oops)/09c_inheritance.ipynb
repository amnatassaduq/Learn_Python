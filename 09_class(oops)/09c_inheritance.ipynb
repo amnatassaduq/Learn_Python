{
 "cells": [
  {
   "cell_type": "markdown",
   "metadata": {},
   "source": [
    "# **Inheritance**\n",
    "\n",
    "Inheritance is a fundamental concept in Object-Oriented Programming (OOP)\n",
    "\n",
    "it allows a new class (called the child class) to inherit properties and behaviors (methods) from an existing class (called the parent class).\n",
    "\n",
    "This concept helps us to reuse code and extend the functionality of existing code without rewriting it."
   ]
  },
  {
   "cell_type": "markdown",
   "metadata": {},
   "source": [
    "## *Key Benefits of Inheritance*\n",
    "\n",
    "* **Code Reusability**:Write code once and reuse it across multiple classes.\n",
    "* **Maintainability**Easier to maintain and update code when changes are needed.\n",
    "* **Extensibility:** Classes can be easily extended to add new functionality without modifying the existing code.\n",
    "* **Modularity:** Break your code into small, modular units that are easier to understand and maintain."
   ]
  },
  {
   "cell_type": "markdown",
   "metadata": {},
   "source": [
    "# **Types of inheritence**\n",
    "## *Example*\n"
   ]
  },
  {
   "cell_type": "code",
<<<<<<< HEAD
   "execution_count": 2,
=======
   "execution_count": 4,
>>>>>>> 8ac47fc35df20f118f3b79af19df9e0e498a49d3
   "metadata": {},
   "outputs": [],
   "source": [
    "#parent  class\n",
    "class LivingThings:\n",
    "    def __init__(self,name):\n",
    "        self.name=name\n",
    "    def growing(self):\n",
    "        print(f\"{self.name} is growing\")\n",
    "\n"
   ]
  },
  {
   "cell_type": "markdown",
   "metadata": {},
   "source": [
    "## *1. Single Inheritance*\n",
    "In single inheritance, a child class inherits from one parent class."
   ]
  },
  {
   "cell_type": "code",
<<<<<<< HEAD
   "execution_count": 3,
=======
   "execution_count": 5,
>>>>>>> 8ac47fc35df20f118f3b79af19df9e0e498a49d3
   "metadata": {},
   "outputs": [
    {
     "name": "stdout",
     "output_type": "stream",
     "text": [
      "Dog is growing\n",
      "Dog's sound is Barking\n"
     ]
    }
   ],
   "source": [
    "# Child class inheriting from LivingThings\n",
    "class Animal(LivingThings):\n",
    "    def __init__(self,name,sound):\n",
    "        # Call the parent class constructor using super()\n",
    "        super().__init__(name)\n",
    "        self.sound = sound  # Initialize sound attribute in Animals class\n",
    "    \n",
    "    def noise(self):\n",
    "        # Properly format the string using f-string for self.name and self.sound\n",
    "        print(f\"{self.name}'s sound is {self.sound}\")\n",
    "\n",
    "# Creating an object of the Animals class\n",
    "first_animal = Animal(\"Dog\", \"Barking\")\n",
    "\n",
    "# Calling methods\n",
    "first_animal.growing()  # Inherited from LivingThings\n",
    "first_animal.noise()    # Defined in Animals"
   ]
  },
  {
   "cell_type": "markdown",
   "metadata": {},
   "source": [
    "# *2. Multiple Inheritance*\n",
    "In multiple inheritance, a child class can inherit from more than one parent class."
   ]
  },
  {
   "cell_type": "code",
   "execution_count": 4,
   "metadata": {},
   "outputs": [
    {
     "name": "stdout",
     "output_type": "stream",
     "text": [
      "Rose is growing\n",
      "Rose is performing the process of photosynthesis\n"
     ]
    }
   ],
   "source": [
    "#Parent\n",
    "class livingThings():\n",
    "    def __init__(self,name):\n",
    "        self.name = name\n",
    "    def growing(self):\n",
    "        print(f\"{self.name} is growing\")\n",
    "\n",
    "#parent\n",
    "class Photosynthesis():\n",
    "    def __init__(self,name):\n",
    "        self.name = name\n",
    "    def process(self):\n",
    "        print(f\"{self.name} is performing the process of photosynthesis\")\n",
    "\n",
    "#child ,#parent\n",
    "class Plants(LivingThings,Photosynthesis):\n",
    "    def __init__(self,name,color):\n",
    "        super().__init__(name)\n",
    "        super().__init__(name)\n",
    "        self.color = color\n",
    "    def need(self):\n",
    "        print(\"plants need air and water\")\n",
    "\n",
    "plant1=Plants(\"Rose\",\"Red\")\n",
    "\n",
    "plant1.growing()\n",
    "plant1.process()\n"
   ]
  },
  {
   "cell_type": "markdown",
   "metadata": {},
   "source": [
    "## 3. *Multilevel Inheritance*\n",
    "In multilevel inheritance, a class inherits from a child class that has already inherited from another class."
   ]
  },
  {
   "cell_type": "code",
   "execution_count": 6,
   "metadata": {},
   "outputs": [
    {
     "name": "stdout",
     "output_type": "stream",
     "text": [
      "plants need air and water\n"
     ]
    }
   ],
   "source": [
    "class Sunflower(Plants):\n",
    "    def __init__(self,name,color):\n",
    "        super().__init__(name,color)\n",
    "\n",
    "sunflower = Sunflower(\"sunflower\",\"yellow\")\n",
    "\n",
    "sunflower.need()\n",
    "\n"
   ]
  },
  {
   "cell_type": "markdown",
   "metadata": {},
   "source": [
    "## *4. Hierarchical Inheritance*\n",
    "\n",
    "In hierarchical inheritance, multiple child classes inherit from the same parent class."
   ]
  },
  {
   "cell_type": "code",
   "execution_count": 8,
   "metadata": {},
   "outputs": [
    {
     "name": "stdout",
     "output_type": "stream",
     "text": [
      "Dog is growing\n",
      "Dog's sound is Barking\n",
      "Rose is growing\n"
     ]
    }
   ],
   "source": [
    "#parent  class\n",
    "class LivingThings:\n",
    "    def __init__(self,name):\n",
    "        self.name=name\n",
    "    def growing(self):\n",
    "        print(f\"{self.name} is growing\")\n",
    "\n",
    "\n",
    "#child claSS\n",
    "class Animal(LivingThings):\n",
    "    def __init__(self,name,sound):\n",
    "        # Call the parent class constructor using super()\n",
    "        super().__init__(name)\n",
    "        self.sound = sound  # Initialize sound attribute in Animals class\n",
    "    \n",
    "    def noise(self):\n",
    "        # Properly format the string using f-string for self.name and self.sound\n",
    "        print(f\"{self.name}'s sound is {self.sound}\")\n",
    "\n",
    "# Creating an object of the Animals class\n",
    "first_animal = Animal(\"Dog\", \"Barking\")\n",
    "\n",
    "# Calling methods\n",
    "first_animal.growing()  # Inherited from LivingThings\n",
    "first_animal.noise()    # Defined in Animals\n",
    "\n",
    "\n",
    "#child class\n",
    "class Plants(LivingThings):\n",
    "    def __init__(self,name,color):\n",
    "        super().__init__(name)\n",
    "        super().__init__(name)\n",
    "        self.color = color\n",
    "    def need(self):\n",
    "        print(\"plants need air and water\")\n",
    "\n",
    "plant1=Plants(\"Rose\",\"Red\")\n",
    "\n",
    "plant1.growing()\n",
    "\n",
    "\n",
    "\n",
    "\n",
    "\n",
    "\n",
    "\n"
   ]
  },
  {
   "cell_type": "markdown",
   "metadata": {},
   "source": [
    "## **Overriding Methods in Child Classes**\n",
    "Child classes can override methods from the parent class to provide their own implementation."
   ]
  },
  {
   "cell_type": "code",
   "execution_count": 17,
   "metadata": {},
   "outputs": [
    {
     "name": "stdout",
     "output_type": "stream",
     "text": [
      "Customer: john_doe, Email: john@example.com\n"
     ]
    }
   ],
   "source": [
    "class User:\n",
    "    def __init__(self, username, email):\n",
    "        self.username = username\n",
    "        self.email = email\n",
    "\n",
    "    def display_user_info(self):\n",
    "        print(f\"User: {self.username}, Email: {self.email}\")\n",
    "\n",
    "\n",
    "class Customer(User):\n",
    "    def display_user_info(self):\n",
    "        print(f\"Customer: {self.username}, Email: {self.email}\")\n",
    "\n",
    "user = Customer(\"john_doe\", \"john@example.com\")\n",
    "user.display_user_info()  # This will call the overridden method in Customer\n"
   ]
  }
 ],
 "metadata": {
  "kernelspec": {
   "display_name": "Python 3",
   "language": "python",
   "name": "python3"
  },
  "language_info": {
   "codemirror_mode": {
    "name": "ipython",
    "version": 3
   },
   "file_extension": ".py",
   "mimetype": "text/x-python",
   "name": "python",
   "nbconvert_exporter": "python",
   "pygments_lexer": "ipython3",
   "version": "3.12.6"
  }
 },
 "nbformat": 4,
 "nbformat_minor": 2
}
