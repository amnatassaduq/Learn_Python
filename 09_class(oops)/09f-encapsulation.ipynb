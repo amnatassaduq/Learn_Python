{
 "cells": [
  {
   "cell_type": "markdown",
   "metadata": {},
   "source": [
    "# **Encapsulation**\n",
    "\n",
    "* Encapsulation is one of the fundamental principles of Object-Oriented Programming (OOP). \n",
    "\n",
    "* Encapsulation also restricts direct access to some of the object's components, which is a way of controlling how the data is modified."
   ]
  },
  {
   "cell_type": "markdown",
   "metadata": {},
   "source": [
    "## **When and Where to Use Encapsulation?**\n",
    "\n",
    "* When you want to protect the integrity of an object’s data by controlling how external code interacts with it.\n",
    "\n",
    "* When you want to hide complex implementation details from the user and provide a simple interface.\n",
    "\n",
    "* When you want to restrict direct access to sensitive data and only allow modification via controlled methods."
   ]
  },
  {
   "cell_type": "markdown",
   "metadata": {},
   "source": [
    "### *Here's an easy way to understand it:*\n",
    "\n",
    "*Data and Methods Together:*\n",
    "\n",
    " Imagine you have a class, which is like a blueprint. Inside the class, you have variables (attributes) and functions (methods) that belong together. Encapsulation means that these variables and methods are wrapped together inside this class.\n",
    "\n",
    "*Private Data:*\n",
    "\n",
    " To protect the data, encapsulation allows you to make variables private. This means they can't be accessed directly from outside the class. Instead, you provide methods (functions) to get or set the values, keeping the internal details hidden."
   ]
  },
  {
   "cell_type": "markdown",
   "metadata": {},
   "source": [
    " ### **Access Modifiers in Python**\n",
    "In Python, encapsulation is enforced through access modifiers. Unlike some other languages (like Java or C++), Python doesn’t have explicit keywords for public, protected, or private access. Instead, it uses naming conventions to control access:\n",
    "\n",
    "**Public:** \n",
    "\n",
    "* Accessible from anywhere.\n",
    "\n",
    "* No special notation.\n",
    "\n",
    "**Protected:** \n",
    "\n",
    "* Meant to be accessed within the class and subclasses only.\n",
    "\n",
    "* Defined with a single underscore (_) prefix. This suggests that it should not be accessed from outside, but it's still technically accessible.\n",
    "\n",
    "**Private:** \n",
    "\n",
    "* Only accessible within the class itself.\n",
    "\n",
    "* Defined with two underscores (__) prefix. This triggers name mangling, making the variable/method hard to access from outside the class"
   ]
  },
  {
   "cell_type": "markdown",
   "metadata": {},
   "source": [
    "# **Example of Encapsulation, Public, Protected, and Private Access**"
   ]
  },
  {
   "cell_type": "code",
   "execution_count": null,
   "metadata": {},
   "outputs": [],
   "source": [
    "class BankAccount:\n",
    "    def __init__(self, owner, balance):\n",
    "        # Public attribute\n",
    "        self.owner = owner\n",
    "        \n",
    "        # Protected attribute\n",
    "        self._balance = balance\n",
    "        \n",
    "        # Private attribute\n",
    "        self.__account_number = \"1234567890\"\n",
    "    \n",
    "    # Public method to view the balance\n",
    "    def get_balance(self):\n",
    "        return self._balance\n",
    "    \n",
    "    # Protected method (can be accessed within class or subclass)\n",
    "    def _deposit(self, amount):\n",
    "        if amount > 0:\n",
    "            self._balance += amount\n",
    "            print(f\"Deposited {amount}. New balance is {self._balance}\")\n",
    "    \n",
    "    # Private method (not intended to be accessed directly)\n",
    "    def __generate_account_report(self):\n",
    "        return f\"Account Report: Owner: {self.owner}, Balance: {self._balance}\"\n",
    "    \n",
    "    # Public method to get account report (calls the private method)\n",
    "    def get_account_report(self):\n",
    "        return self.__generate_account_report()\n",
    "\n",
    "\n",
    "# Instantiating a BankAccount object\n",
    "account = BankAccount(\"Alice\", 1000)\n",
    "\n",
    "# Accessing public attribute\n",
    "print(f\"Account Owner: {account.owner}\")\n",
    "\n",
    "# Accessing protected attribute (though it's discouraged)\n",
    "print(f\"Balance (Protected): {account._balance}\")\n",
    "\n",
    "# Trying to access private attribute (This will fail)\n",
    "# print(account.__account_number)  # Uncommenting this will raise an AttributeError\n",
    "\n",
    "# Accessing private attribute through name mangling (not recommended)\n",
    "print(f\"Account Number (Private): {account._BankAccount__account_number}\")\n",
    "\n",
    "# Accessing public method\n",
    "print(f\"Current Balance: {account.get_balance()}\")\n",
    "\n",
    "# Accessing protected method (though it's discouraged)\n",
    "account._deposit(500)\n",
    "\n",
    "# Accessing private method via public method\n",
    "print(account.get_account_report())"
   ]
  }
 ],
 "metadata": {
  "language_info": {
   "name": "python"
  }
 },
 "nbformat": 4,
 "nbformat_minor": 2
}
